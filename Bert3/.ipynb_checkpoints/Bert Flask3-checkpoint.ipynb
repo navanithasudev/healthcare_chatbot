{
 "cells": [
  {
   "cell_type": "code",
   "execution_count": 1,
   "id": "7bc20b9a-559f-489f-b294-d2e244e5d255",
   "metadata": {},
   "outputs": [],
   "source": [
    "from flask import Flask, render_template, request, jsonify\n",
    "import torch\n",
    "from transformers import BertForSequenceClassification, BertTokenizer\n",
    "from sklearn.preprocessing import LabelEncoder\n",
    "import json\n",
    "import pandas as pd\n"
   ]
  },
  {
   "cell_type": "code",
   "execution_count": 2,
   "id": "84e44e37-2c88-4f8f-b9e7-f729f6c94f2e",
   "metadata": {},
   "outputs": [
    {
     "name": "stdout",
     "output_type": "stream",
     "text": [
      " * Serving Flask app '__main__'\n",
      " * Debug mode: off\n"
     ]
    },
    {
     "name": "stderr",
     "output_type": "stream",
     "text": [
      "WARNING: This is a development server. Do not use it in a production deployment. Use a production WSGI server instead.\n",
      " * Running on http://127.0.0.1:5000\n",
      "Press CTRL+C to quit\n",
      "127.0.0.1 - - [08/Jul/2025 21:00:52] \"GET / HTTP/1.1\" 200 -\n",
      "127.0.0.1 - - [08/Jul/2025 21:00:52] \"GET /static/styles1.css HTTP/1.1\" 200 -\n",
      "127.0.0.1 - - [08/Jul/2025 21:00:52] \"GET /static/bgd.png HTTP/1.1\" 200 -\n",
      "127.0.0.1 - - [08/Jul/2025 21:00:52] \"GET /static/script.js HTTP/1.1\" 200 -\n",
      "127.0.0.1 - - [08/Jul/2025 21:00:52] \"GET /static/chatbot.jpg HTTP/1.1\" 200 -\n",
      "127.0.0.1 - - [08/Jul/2025 21:03:58] \"GET / HTTP/1.1\" 200 -\n",
      "127.0.0.1 - - [08/Jul/2025 21:03:58] \"GET /static/styles1.css HTTP/1.1\" 304 -\n",
      "127.0.0.1 - - [08/Jul/2025 21:03:58] \"GET /static/bgd.png HTTP/1.1\" 304 -\n",
      "127.0.0.1 - - [08/Jul/2025 21:03:58] \"GET /static/chatbot.jpg HTTP/1.1\" 304 -\n",
      "127.0.0.1 - - [08/Jul/2025 21:03:58] \"GET /static/script.js HTTP/1.1\" 304 -\n"
     ]
    }
   ],
   "source": [
    "app = Flask(__name__)\n",
    "\n",
    "# Load mapping data\n",
    "mapping_data = json.load(open('mapping.json'))\n",
    "\n",
    "# Path to the directory where the model is saved\n",
    "model_path = 'healthcare_chatbot_bert_model.pth'\n",
    "\n",
    "# Load the tokenizer\n",
    "tokenizer = BertTokenizer.from_pretrained('bert-base-uncased')\n",
    "\n",
    "# Load the model\n",
    "model = BertForSequenceClassification.from_pretrained(model_path)\n",
    "\n",
    "# Ensure the model is in evaluation mode\n",
    "model.eval()\n",
    "\n",
    "# Load label encoder\n",
    "train_data = pd.read_csv('symptom-disease-train-dataset.csv')\n",
    "label_encoder = LabelEncoder()\n",
    "label_encoder.fit(train_data['label'])\n",
    "\n",
    "# Assuming 'book1.xlsx' is your Excel file with columns 'Description' and 'Labels'\n",
    "dataset = pd.read_excel('Book1.xlsx')\n",
    "dataset.columns = dataset.columns.str.strip()\n",
    "# Define predict disease function\n",
    "\n",
    "def predict_disease(text):\n",
    "    with torch.no_grad():\n",
    "        inputs = tokenizer(text, padding=True, truncation=True, return_tensors='pt', max_length=105)\n",
    "        outputs = model(**inputs)\n",
    "        predicted_label = torch.argmax(outputs.logits).item()\n",
    "    predicted_disease = label_encoder.inverse_transform([predicted_label])[0]\n",
    "    predicted_disease_name = [disease for disease, label in mapping_data.items() if label == predicted_disease][0]\n",
    "    # Get the description for the predicted disease\n",
    "    matching_rows = dataset.loc[dataset['Labels'] == predicted_disease]\n",
    "\n",
    "    if not matching_rows.empty:\n",
    "        predicted_description = matching_rows['Description'].values[0]\n",
    "    else:\n",
    "        predicted_description = \"Description not available for the predicted disease.\"\n",
    "\n",
    "    return predicted_disease_name, predicted_description\n",
    "\n",
    "\n",
    "@app.route('/')\n",
    "def index():\n",
    "    return render_template('index1.html')\n",
    "\n",
    "@app.route('/predict', methods=['POST'])\n",
    "def predict():\n",
    "    data = request.json\n",
    "    text = data['text']\n",
    "    predicted_disease_name, predicted_description= predict_disease(text)\n",
    "    return jsonify({'predicted_disease_name': predicted_disease_name, 'description': predicted_description})\n",
    "\n",
    "app.run('127.0.0.1', 5000)\n"
   ]
  }
 ],
 "metadata": {
  "kernelspec": {
   "display_name": "Python 3 (ipykernel)",
   "language": "python",
   "name": "python3"
  },
  "language_info": {
   "codemirror_mode": {
    "name": "ipython",
    "version": 3
   },
   "file_extension": ".py",
   "mimetype": "text/x-python",
   "name": "python",
   "nbconvert_exporter": "python",
   "pygments_lexer": "ipython3",
   "version": "3.11.2"
  }
 },
 "nbformat": 4,
 "nbformat_minor": 5
}
